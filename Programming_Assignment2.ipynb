{
 "cells": [
  {
   "cell_type": "markdown",
   "metadata": {},
   "source": [
    "                                                                                 ~Python Basics - Chacko Mulackel\n",
    "\n",
    "\n"
   ]
  },
  {
   "cell_type": "markdown",
   "metadata": {},
   "source": [
    "## 1.\tWrite a Python program to convert kilometers to miles?"
   ]
  },
  {
   "cell_type": "code",
   "execution_count": 1,
   "metadata": {},
   "outputs": [
    {
     "name": "stdout",
     "output_type": "stream",
     "text": [
      "Enter Kilometer\n",
      "100\n",
      "Converting  100.0  kilometer to miles: 62.137\n"
     ]
    }
   ],
   "source": [
    "print(\"Enter Kilometer\")\n",
    "a = float(input())\n",
    "print(\"Converting \",a,\" kilometer to miles:\", a * 0.62137)"
   ]
  },
  {
   "cell_type": "markdown",
   "metadata": {},
   "source": [
    "## 2. Write a Python program to convert Celsius to Fahrenheit?"
   ]
  },
  {
   "cell_type": "code",
   "execution_count": 2,
   "metadata": {},
   "outputs": [
    {
     "name": "stdout",
     "output_type": "stream",
     "text": [
      "Enter Celsius\n",
      "32\n",
      "Converting  32.0 Celsius to Fahrenheit: 89.6 F\n"
     ]
    }
   ],
   "source": [
    "# Fahrenheit (°F) = (Celsius x 1.8) + 32 \n",
    "print(\"Enter Celsius\")\n",
    "Celsius = float(input())\n",
    "F = (Celsius*1.8)+32\n",
    "print(\"Converting \",Celsius,\"Celsius to Fahrenheit:\",F,\"F\")"
   ]
  },
  {
   "cell_type": "markdown",
   "metadata": {},
   "source": [
    "## 3. Write a Python program to display calendar?"
   ]
  },
  {
   "cell_type": "code",
   "execution_count": 3,
   "metadata": {},
   "outputs": [
    {
     "name": "stdout",
     "output_type": "stream",
     "text": [
      "Enter Year\n",
      "2021\n",
      "Enter Month\n",
      "3\n",
      "     March 2021\n",
      "Mo Tu We Th Fr Sa Su\n",
      " 1  2  3  4  5  6  7\n",
      " 8  9 10 11 12 13 14\n",
      "15 16 17 18 19 20 21\n",
      "22 23 24 25 26 27 28\n",
      "29 30 31\n",
      "\n"
     ]
    }
   ],
   "source": [
    "# Inputs required is Year and Month\n",
    "## Importing calendar\n",
    "\n",
    "import calendar\n",
    "print(\"Enter Year\")\n",
    "Year = int(input())\n",
    "print(\"Enter Month\")\n",
    "Month = int(input())\n",
    "print(calendar.month(Year, Month))"
   ]
  },
  {
   "cell_type": "markdown",
   "metadata": {},
   "source": [
    "## 4.Write a Python program to solve quadratic equation?"
   ]
  },
  {
   "cell_type": "code",
   "execution_count": 4,
   "metadata": {},
   "outputs": [
    {
     "name": "stdout",
     "output_type": "stream",
     "text": [
      "Input coefficient a, a should not be equal to zero\n",
      "21\n",
      "Input coefficient b\n",
      "4\n",
      "Input coefficient c\n",
      "2\n",
      "Discriminant =  -152\n",
      "complex roots (-0.09523809523809523, ' + i', 12.328828005937952) and (-0.09523809523809523, ' - i', 12.328828005937952)\n"
     ]
    }
   ],
   "source": [
    "# Quadratic equation = ax2 + bx + c\n",
    "## coefficients = a, b, and c \n",
    "\n",
    "import math \n",
    "print(\"Input coefficient a, a should not be equal to zero\")\n",
    "a = int(input())\n",
    "print(\"Input coefficient b\")\n",
    "b = int(input())\n",
    "print(\"Input coefficient c\")\n",
    "c = int(input())\n",
    "\n",
    "discriminant = b * b - 4 * a * c \n",
    "print(\"Discriminant = \",discriminant)\n",
    "sq_val = math.sqrt(abs(discriminant))\n",
    "\n",
    "#checking if discriminant is greater , less or equal to zero\n",
    "if discriminant > 0:\n",
    "    print(\"Real and Different roots\",(-b + sq_val)/(2 * a),(-b - sq_val)/(2 * a)) \n",
    "elif discriminant == 0: \n",
    "    print(\"Real and Same roots\",-b /(2 * a))       \n",
    "else:\n",
    "    print(\"complex roots\",(- b / (2 * a), \" + i\", sq_val),\"and\",(- b / (2 * a), \" - i\", sq_val)) \n",
    "\n"
   ]
  },
  {
   "cell_type": "markdown",
   "metadata": {},
   "source": [
    "## 5.\tWrite a Python program to swap two variables without temp variable?"
   ]
  },
  {
   "cell_type": "code",
   "execution_count": 5,
   "metadata": {},
   "outputs": [
    {
     "name": "stdout",
     "output_type": "stream",
     "text": [
      "Input first value \n",
      "\n",
      "10000\n",
      "Input second value \n",
      "\n",
      "99\n",
      "Values before swapping is a= 10000 and b= 99 \n",
      "\n",
      "Values after swapping is a= 99 and b= 10000 \n",
      "\n"
     ]
    }
   ],
   "source": [
    "# This can be done using addition operation\n",
    "\n",
    "print(\"Input first value \\n\")\n",
    "a = int(input())\n",
    "print(\"Input second value \\n\")\n",
    "b = int(input())\n",
    "print(\"Values before swapping is a=\",a,\"and b=\",b,'\\n')\n",
    "a, b = b, a\n",
    "print(\"Values after swapping is a=\",a,\"and b=\",b,'\\n')"
   ]
  }
 ],
 "metadata": {
  "kernelspec": {
   "display_name": "Python 3",
   "language": "python",
   "name": "python3"
  },
  "language_info": {
   "codemirror_mode": {
    "name": "ipython",
    "version": 3
   },
   "file_extension": ".py",
   "mimetype": "text/x-python",
   "name": "python",
   "nbconvert_exporter": "python",
   "pygments_lexer": "ipython3",
   "version": "3.8.5"
  }
 },
 "nbformat": 4,
 "nbformat_minor": 4
}
