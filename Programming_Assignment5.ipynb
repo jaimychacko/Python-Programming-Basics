{
 "cells": [
  {
   "cell_type": "markdown",
   "metadata": {},
   "source": [
    "                                                           ~Python Basics - Chacko Mulackel\n",
    "\n",
    "\n"
   ]
  },
  {
   "cell_type": "markdown",
   "metadata": {},
   "source": [
    "## 1.\tWrite a Python Program to Find LCM?"
   ]
  },
  {
   "cell_type": "code",
   "execution_count": 1,
   "metadata": {},
   "outputs": [
    {
     "name": "stdout",
     "output_type": "stream",
     "text": [
      "Enter first number\n",
      "24\n",
      "Enter second number\n",
      "54\n",
      "\n",
      "\n",
      "LCM of 24 & 54 is  216\n"
     ]
    }
   ],
   "source": [
    "print(\"Enter first number\")\n",
    "num1 = int(input())\n",
    "print(\"Enter second number\")\n",
    "num2 = int(input())\n",
    "print(\"\\n\")\n",
    "if num1 > num2:\n",
    "    greater = num1\n",
    "else:\n",
    "    greater = num2\n",
    "\n",
    "while(True):\n",
    "    if((greater % num1 == 0) and (greater % num2 == 0)):\n",
    "        lcm = greater\n",
    "        break\n",
    "    greater += 1\n",
    "print(\"LCM of\",num1,\"&\",num2,\"is \",lcm)"
   ]
  },
  {
   "cell_type": "markdown",
   "metadata": {},
   "source": [
    "### 2.\tWrite a Python Program to Find HCF?"
   ]
  },
  {
   "cell_type": "code",
   "execution_count": 2,
   "metadata": {},
   "outputs": [
    {
     "name": "stdout",
     "output_type": "stream",
     "text": [
      "Enter first number\n",
      "10\n",
      "Enter second number\n",
      "12\n",
      "\n",
      "\n",
      "HCF of 10 & 12 is  2\n"
     ]
    }
   ],
   "source": [
    "\n",
    "print(\"Enter first number\")\n",
    "num1 = int(input())\n",
    "print(\"Enter second number\")\n",
    "num2 = int(input())\n",
    "print(\"\\n\")\n",
    "\n",
    "if num1>num2:\n",
    "    hcf = num1\n",
    "else:\n",
    "    hcf = num2\n",
    "\n",
    "while True:\n",
    "    if num1%hcf==0 and num2%hcf==0:\n",
    "        break\n",
    "    else:\n",
    "        hcf = hcf - 1\n",
    "\n",
    "print(\"HCF of\",num1,\"&\",num2,\"is \",hcf)"
   ]
  },
  {
   "cell_type": "markdown",
   "metadata": {},
   "source": [
    "### 3.\tWrite a Python Program to Convert Decimal to Binary, Octal and Hexadecimal?"
   ]
  },
  {
   "cell_type": "code",
   "execution_count": 3,
   "metadata": {},
   "outputs": [
    {
     "name": "stdout",
     "output_type": "stream",
     "text": [
      "Enter decimal\n",
      "114\n",
      "114 in binary is 1110010\n",
      "114 in octal is 162\n",
      "114 in hexadecimal is 72\n"
     ]
    }
   ],
   "source": [
    "print(\"Enter decimal\")\n",
    "num = int(input())\n",
    "cp = num\n",
    "emp_lst = ''\n",
    "\n",
    "# In binary\n",
    "while(num>0):\n",
    "    rem=num%2\n",
    "    emp_lst+=str(rem)\n",
    "    num = num//2\n",
    "emp_lst+=''\n",
    "print('%a in binary is %s'%(cp, emp_lst[::-1]))\n",
    "\n",
    "num = cp\n",
    "emp_lst = ''\n",
    "# In octal\n",
    "while(num>0):\n",
    "    rem=num%8\n",
    "    emp_lst+=str(rem)\n",
    "    num = num//8\n",
    "emp_lst+=''\n",
    "print('%a in octal is %s'%(cp, emp_lst[::-1]))\n",
    "\n",
    "num = cp\n",
    "emp_lst = ''\n",
    "#In hexadecimal\n",
    "while(num>0):\n",
    "    rem=num%16\n",
    "    emp_lst+=str(rem)\n",
    "    num = num//16\n",
    "emp_lst+=''\n",
    "print('%a in hexadecimal is %s'%(cp, emp_lst[::-1]))"
   ]
  },
  {
   "cell_type": "markdown",
   "metadata": {},
   "source": [
    "### 4.\tWrite a Python Program To Find ASCII value of a character?"
   ]
  },
  {
   "cell_type": "code",
   "execution_count": 4,
   "metadata": {},
   "outputs": [
    {
     "name": "stdout",
     "output_type": "stream",
     "text": [
      "Enter character\n",
      "a\n",
      "ASCII value of  a is 97\n"
     ]
    }
   ],
   "source": [
    "a = input(\"Enter character\\n\")\n",
    "print(\"ASCII value of \", a,\"is\", ord(a))"
   ]
  },
  {
   "cell_type": "markdown",
   "metadata": {},
   "source": [
    "### 5.\tWrite a Python Program to Make a Simple Calculator with 4 basic mathematical operations?"
   ]
  },
  {
   "cell_type": "code",
   "execution_count": 5,
   "metadata": {},
   "outputs": [
    {
     "name": "stdout",
     "output_type": "stream",
     "text": [
      "Enter two numbers for calculation\n",
      "First Number\t6\n",
      "Second Number\t4\n",
      "Please provide one of the mathematical operations \n",
      "      1. Addition(Enter 1) \n",
      "      2. Substraction( Enter 2)\n",
      "      3. Division(Enter 3)\n",
      "      4. Multiplication(Enter 4)\n",
      "4\n",
      "\n",
      "\n",
      "Multiplying 6.0 x 4.0 = 24.0\n"
     ]
    }
   ],
   "source": [
    "print(\"Enter two numbers for calculation\")\n",
    "\n",
    "inp1 = float(input(\"First Number\\t\"))\n",
    "inp2 = float(input(\"Second Number\\t\"))\n",
    "\n",
    "print('''Please provide one of the mathematical operations \n",
    "      1. Addition(Enter 1) \n",
    "      2. Substraction( Enter 2)\n",
    "      3. Division(Enter 3)\n",
    "      4. Multiplication(Enter 4)''')\n",
    "\n",
    "operation = str(input())\n",
    "print(\"\\n\")\n",
    "if (operation =='1'):\n",
    "    print(\"Adding\",inp1, \"+\",inp2,\"=\",inp1+inp2)\n",
    "elif(operation =='2'):\n",
    "    print(\"Subtracting\",inp1, \"-\",inp2,\"=\",inp1-inp2)\n",
    "elif(operation=='3'):\n",
    "    print(\"Dividing\",inp1, \"/\",inp2,\"=\",inp1/inp2)\n",
    "elif(operation == '4'):\n",
    "    print(\"Multiplying\",inp1, \"x\",inp2,\"=\",inp1*inp2)\n",
    "    "
   ]
  },
  {
   "cell_type": "code",
   "execution_count": null,
   "metadata": {},
   "outputs": [],
   "source": []
  }
 ],
 "metadata": {
  "kernelspec": {
   "display_name": "Python 3",
   "language": "python",
   "name": "python3"
  },
  "language_info": {
   "codemirror_mode": {
    "name": "ipython",
    "version": 3
   },
   "file_extension": ".py",
   "mimetype": "text/x-python",
   "name": "python",
   "nbconvert_exporter": "python",
   "pygments_lexer": "ipython3",
   "version": "3.8.5"
  }
 },
 "nbformat": 4,
 "nbformat_minor": 4
}
