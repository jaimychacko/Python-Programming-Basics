{
 "cells": [
  {
   "cell_type": "markdown",
   "metadata": {},
   "source": [
    "                                                                                 ~Python Basics - Chacko Mulackel\n",
    "\n",
    "\n"
   ]
  },
  {
   "cell_type": "markdown",
   "metadata": {},
   "source": [
    "## 1.\tWrite a Python program to print \"Hello Python\"?"
   ]
  },
  {
   "cell_type": "code",
   "execution_count": 1,
   "metadata": {},
   "outputs": [
    {
     "name": "stdout",
     "output_type": "stream",
     "text": [
      "Hello Python\n"
     ]
    }
   ],
   "source": [
    "print(\"Hello Python\")"
   ]
  },
  {
   "cell_type": "markdown",
   "metadata": {},
   "source": [
    "## 2.\tWrite a Python program to do arithmetical operations addition and division.?"
   ]
  },
  {
   "cell_type": "code",
   "execution_count": 2,
   "metadata": {},
   "outputs": [
    {
     "name": "stdout",
     "output_type": "stream",
     "text": [
      "Input first numeric value\n",
      "3\n",
      "Input second numeric value\n",
      "6\n",
      "Adding the above inputs  9.0\n",
      "Dividing the above inputs 0.5\n"
     ]
    }
   ],
   "source": [
    "print(\"Input first numeric value\")\n",
    "a =  input()\n",
    "print(\"Input second numeric value\")\n",
    "b = input()\n",
    "print(\"Adding the above inputs \",float(a)+ float(b))\n",
    "print(\"Dividing the above inputs\",float(a)/ float(b) )"
   ]
  },
  {
   "cell_type": "markdown",
   "metadata": {},
   "source": [
    "## 3.\tWrite a Python program to find the area of a triangle?"
   ]
  },
  {
   "cell_type": "code",
   "execution_count": 3,
   "metadata": {},
   "outputs": [
    {
     "name": "stdout",
     "output_type": "stream",
     "text": [
      "Enter length of base\n",
      "3\n",
      "Enter height\n",
      "4\n",
      "Area of the triangle is:  6.0\n"
     ]
    }
   ],
   "source": [
    "# Assuming the user will provide base and height. The formula is A = 1/2bh\n",
    "print(\"Enter length of base\")\n",
    "b = input()\n",
    "print(\"Enter height\")\n",
    "h = input()\n",
    "Area = (1/2)*(float(b)*float(h))\n",
    "print(\"Area of the triangle is: \", Area)"
   ]
  },
  {
   "cell_type": "markdown",
   "metadata": {},
   "source": [
    "## 4.\tWrite a Python program to swap two variables?"
   ]
  },
  {
   "cell_type": "code",
   "execution_count": 4,
   "metadata": {},
   "outputs": [
    {
     "name": "stdout",
     "output_type": "stream",
     "text": [
      "Value of first variable: 55\n",
      "Value of second variable: 66\n",
      "Values before swapping  a= 55  b= 66\n",
      "Swapped variable values  a= 66  b= 55\n"
     ]
    }
   ],
   "source": [
    "a = (input(\"Value of first variable: \"))\n",
    "b = (input(\"Value of second variable: \"))\n",
    "print(\"Values before swapping\",\" a=\",a,\" b=\",b)\n",
    "temp = a\n",
    "a = b\n",
    "b = temp \n",
    "print(\"Swapped variable values\",\" a=\",a,\" b=\",b)"
   ]
  },
  {
   "cell_type": "markdown",
   "metadata": {},
   "source": [
    "## 5.\tWrite a Python program to generate a random number?"
   ]
  },
  {
   "cell_type": "code",
   "execution_count": 5,
   "metadata": {},
   "outputs": [
    {
     "name": "stdout",
     "output_type": "stream",
     "text": [
      "Enter range of numbers in integer format , first and last: \n",
      "4\n",
      "600\n",
      "Random Number = 288\n"
     ]
    }
   ],
   "source": [
    "# importing random for generating random number\n",
    "## needs imput\n",
    "\n",
    "import random\n",
    "print(\"Enter range of numbers in integer format , first and last: \")\n",
    "first = int(input())\n",
    "last = int(input())\n",
    "random_number = random.randint(first, last)\n",
    "print(\"Random Number =\", random_number)"
   ]
  }
 ],
 "metadata": {
  "kernelspec": {
   "display_name": "Python 3",
   "language": "python",
   "name": "python3"
  },
  "language_info": {
   "codemirror_mode": {
    "name": "ipython",
    "version": 3
   },
   "file_extension": ".py",
   "mimetype": "text/x-python",
   "name": "python",
   "nbconvert_exporter": "python",
   "pygments_lexer": "ipython3",
   "version": "3.8.5"
  }
 },
 "nbformat": 4,
 "nbformat_minor": 4
}
