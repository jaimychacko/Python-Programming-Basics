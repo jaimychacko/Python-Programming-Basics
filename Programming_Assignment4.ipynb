{
 "cells": [
  {
   "cell_type": "markdown",
   "metadata": {},
   "source": [
    "                                                                                 ~Python Basics - Chacko Mulackel\n",
    "\n",
    "\n"
   ]
  },
  {
   "cell_type": "markdown",
   "metadata": {},
   "source": [
    "## 1.\tWrite a Python Program to Find the Factorial of a Number?"
   ]
  },
  {
   "cell_type": "code",
   "execution_count": 1,
   "metadata": {},
   "outputs": [
    {
     "name": "stdout",
     "output_type": "stream",
     "text": [
      "Enter number to find factorial\n",
      "5\n",
      "Factorial of 5 is: 120\n"
     ]
    }
   ],
   "source": [
    "print(\"Enter number to find factorial\")\n",
    "num = int(input())\n",
    "input_num = num\n",
    "for i in range(num-1,0,-1):\n",
    "    num = num*i\n",
    "print(\"Factorial of\",input_num,\"is:\",num)\n"
   ]
  },
  {
   "cell_type": "markdown",
   "metadata": {},
   "source": [
    "## 2.\tWrite a Python Program to Display the multiplication Table?"
   ]
  },
  {
   "cell_type": "code",
   "execution_count": 2,
   "metadata": {},
   "outputs": [
    {
     "name": "stdout",
     "output_type": "stream",
     "text": [
      "Enter number for generating Multiplication table\n",
      "12\n",
      "Enter number for the upper limit\n",
      "13\n",
      "Multiplication table of: 12\n",
      "1 x 12 = 12\n",
      "2 x 12 = 24\n",
      "3 x 12 = 36\n",
      "4 x 12 = 48\n",
      "5 x 12 = 60\n",
      "6 x 12 = 72\n",
      "7 x 12 = 84\n",
      "8 x 12 = 96\n",
      "9 x 12 = 108\n",
      "10 x 12 = 120\n",
      "11 x 12 = 132\n",
      "12 x 12 = 144\n",
      "13 x 12 = 156\n"
     ]
    }
   ],
   "source": [
    "print(\"Enter number for generating Multiplication table\")\n",
    "num = int(input())\n",
    "print(\"Enter number for the upper limit\")\n",
    "maxi = int(input())\n",
    "print(\"Multiplication table of:\",num)\n",
    "for i in range(1,maxi+1):\n",
    "    print(i,\"x\",num,\"=\",num*i)"
   ]
  },
  {
   "cell_type": "markdown",
   "metadata": {},
   "source": [
    "## 3.\tWrite a Python Program to Print the Fibonacci sequence?"
   ]
  },
  {
   "cell_type": "code",
   "execution_count": 3,
   "metadata": {},
   "outputs": [
    {
     "name": "stdout",
     "output_type": "stream",
     "text": [
      "Enter term for generating fibonacci series(Greater than 0)\n",
      "12\n",
      "Fibonacci sequence for 12 is\n",
      "0\n",
      "1\n",
      "1\n",
      "2\n",
      "3\n",
      "5\n",
      "8\n",
      "13\n",
      "21\n",
      "34\n",
      "55\n",
      "89\n"
     ]
    }
   ],
   "source": [
    "print(\"Enter term for generating fibonacci series(Greater than 0)\")\n",
    "term = int(input())\n",
    "num1 = 0\n",
    "num2 =1\n",
    "i= 0\n",
    "if term <= 0:\n",
    "    print(\"Cannot generate fibonacci\")\n",
    "elif term == 1:\n",
    "    print(\"Fibonacci sequence for\",term,\"is\")\n",
    "    print(num1)\n",
    "else:\n",
    "    print(\"Fibonacci sequence for\",term,\"is\")\n",
    "    while i<term:\n",
    "        print(num1)\n",
    "        add=num1+num2\n",
    "        num1=num2\n",
    "        num2=add\n",
    "        i+=1"
   ]
  },
  {
   "cell_type": "markdown",
   "metadata": {},
   "source": [
    "## 4.\tWrite a Python Program to Check Armstrong Number?"
   ]
  },
  {
   "cell_type": "code",
   "execution_count": 4,
   "metadata": {},
   "outputs": [
    {
     "name": "stdout",
     "output_type": "stream",
     "text": [
      "Enter number to check if its Amstrong Number or not\n",
      "407\n",
      "\n",
      "\n",
      "407 is an Amstrong Number\n"
     ]
    }
   ],
   "source": [
    "#Armstrong number is a number that is equal to the sum of cubes of its digits.\n",
    "#For example 0, 1, 153, 370, 371 and 407 are the Armstrong numbers.\n",
    "print(\"Enter number to check if its Amstrong Number or not\")\n",
    "num_ini = int(input())\n",
    "num = num_ini\n",
    "a = len(str(num))\n",
    "i=0\n",
    "sum1 = 0\n",
    "while (i<a):\n",
    "    sum1 = sum1+(num%10)**3\n",
    "    num = int(num/10)\n",
    "    i+=1\n",
    "print('\\n')    \n",
    "if num_ini == sum1:\n",
    "    print(num_ini,\"is an Amstrong Number\")\n",
    "else:\n",
    "    print(num_ini,\"not an Amstrong Number\")"
   ]
  },
  {
   "cell_type": "markdown",
   "metadata": {},
   "source": [
    "## 5.\tWrite a Python Program to Find Armstrong Number in an Interval?"
   ]
  },
  {
   "cell_type": "code",
   "execution_count": 5,
   "metadata": {},
   "outputs": [
    {
     "name": "stdout",
     "output_type": "stream",
     "text": [
      "Enter lower limit\n",
      "100\n",
      "Enter upper limit\n",
      "1000\n",
      "[153, 370, 371, 407] are the Amstrong Numbers in this interval\n"
     ]
    }
   ],
   "source": [
    "print(\"Enter lower limit\")\n",
    "a = int(input())\n",
    "print(\"Enter upper limit\")\n",
    "b = int(input())\n",
    "em=[]\n",
    "for x in range(a,b+1):\n",
    "    num_ini = x\n",
    "    num = num_ini\n",
    "    a = len(str(num))\n",
    "    i=0\n",
    "    sum1 = 0\n",
    "    while (i<a):\n",
    "        sum1 = sum1+(num%10)**3\n",
    "        num = int(num/10)\n",
    "        i+=1\n",
    "    if (num_ini == sum1):\n",
    "        em.append(num_ini)\n",
    "print(em,\"are the Amstrong Numbers in this interval\")        "
   ]
  },
  {
   "cell_type": "markdown",
   "metadata": {},
   "source": [
    "## 6.\tWrite a Python Program to Find the Sum of Natural Numbers?"
   ]
  },
  {
   "cell_type": "code",
   "execution_count": 6,
   "metadata": {},
   "outputs": [
    {
     "name": "stdout",
     "output_type": "stream",
     "text": [
      "Enter positive natural number\n",
      "10\n",
      "Sum of Natural Number is 55\n"
     ]
    }
   ],
   "source": [
    "print(\"Enter positive natural number\")\n",
    "num = int(input())\n",
    "init=0\n",
    "#sum = 1 + 2 + 3 + ... + 10\n",
    "for i in range(1,num+1):\n",
    "    init = init+i\n",
    "print(\"Sum of Natural Number is\",init)    "
   ]
  }
 ],
 "metadata": {
  "kernelspec": {
   "display_name": "Python 3",
   "language": "python",
   "name": "python3"
  },
  "language_info": {
   "codemirror_mode": {
    "name": "ipython",
    "version": 3
   },
   "file_extension": ".py",
   "mimetype": "text/x-python",
   "name": "python",
   "nbconvert_exporter": "python",
   "pygments_lexer": "ipython3",
   "version": "3.8.5"
  }
 },
 "nbformat": 4,
 "nbformat_minor": 4
}
