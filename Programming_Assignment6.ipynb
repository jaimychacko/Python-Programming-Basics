{
 "cells": [
  {
   "cell_type": "markdown",
   "metadata": {},
   "source": [
    "                                                           ~Python Basics - Chacko Mulackel\n",
    "\n",
    "\n"
   ]
  },
  {
   "cell_type": "markdown",
   "metadata": {},
   "source": [
    "### 1. Write a Python Program to Display Fibonacci Sequence Using Recursion?"
   ]
  },
  {
   "cell_type": "code",
   "execution_count": 1,
   "metadata": {},
   "outputs": [
    {
     "name": "stdout",
     "output_type": "stream",
     "text": [
      "Enter max range for generating Fibonacci series7\n",
      "0\n",
      "1\n",
      "1\n",
      "2\n",
      "3\n",
      "5\n",
      "8\n"
     ]
    }
   ],
   "source": [
    "i = int(input(\"Enter max range for generating Fibonacci series\"))\n",
    "fib_cache={}\n",
    "\n",
    "def fib_recursion(n):\n",
    "    if n in fib_cache:\n",
    "        return fib_cache[n]\n",
    "    \n",
    "    if(n== 0):\n",
    "        out= 0\n",
    "    elif(n==1):\n",
    "        out = 1\n",
    "    elif(n==2):\n",
    "        out =1\n",
    "    elif(n>2):\n",
    "        out = fib_recursion(n-1)+fib_recursion(n-2)\n",
    "        \n",
    "    fib_cache[n] = out\n",
    "    return out\n",
    "if(i==0):\n",
    "    print(0)\n",
    "else:\n",
    "    print(0)\n",
    "    for n in range(1,i):\n",
    "        print(fib_recursion(n))"
   ]
  },
  {
   "cell_type": "markdown",
   "metadata": {},
   "source": [
    "### 2.\tWrite a Python Program to Find Factorial of Number Using Recursion?"
   ]
  },
  {
   "cell_type": "code",
   "execution_count": 2,
   "metadata": {},
   "outputs": [
    {
     "name": "stdout",
     "output_type": "stream",
     "text": [
      "Enter number for finding factorial \n",
      "5\n",
      "120\n"
     ]
    }
   ],
   "source": [
    "# 4! = 4x3x2x1  n! = n*(n-1)!\n",
    "\n",
    "n = int(input(\"Enter number for finding factorial \\n\"))\n",
    "\n",
    "def factorial(number):\n",
    "    if number == 1:\n",
    "        return 1\n",
    "    else:\n",
    "        return number * factorial(number -1)\n",
    "\n",
    "print(factorial(n))"
   ]
  },
  {
   "cell_type": "markdown",
   "metadata": {},
   "source": [
    "### 3.\tWrite a Python Program to calculate your Body Mass Index?"
   ]
  },
  {
   "cell_type": "code",
   "execution_count": 3,
   "metadata": {},
   "outputs": [
    {
     "name": "stdout",
     "output_type": "stream",
     "text": [
      "Enter weight in kilogram \n",
      "90\n",
      "Enter height in meter \n",
      "19.5\n",
      "Your BMI is : 0.23668639053254437\n"
     ]
    }
   ],
   "source": [
    "num1 = float(input(\"Enter weight in kilogram \\n\"))\n",
    "num2 = float(input(\"Enter height in meter \\n\"))\n",
    "\n",
    "def bmi(a,b):\n",
    "    return a/(b**2)\n",
    "\n",
    "print(\"Your BMI is :\",bmi(num1,num2))"
   ]
  },
  {
   "cell_type": "markdown",
   "metadata": {},
   "source": [
    "### 4.\tWrite a Python Program to calculate the natural logarithm of any number?"
   ]
  },
  {
   "cell_type": "code",
   "execution_count": 4,
   "metadata": {},
   "outputs": [
    {
     "name": "stdout",
     "output_type": "stream",
     "text": [
      "Enter Number\n",
      "10\n",
      "Natural Log of 10.0 is 2.302585092994046\n"
     ]
    }
   ],
   "source": [
    "a = float(input(\"Enter Number\\n\"))\n",
    "import math\n",
    "def natural_log(x):\n",
    "    Ln = math.log(x)\n",
    "    return Ln\n",
    "\n",
    "print(\"Natural Log of\",a,\"is\",natural_log(a))"
   ]
  },
  {
   "cell_type": "markdown",
   "metadata": {},
   "source": [
    "### 5.\tWrite a Python Program for cube sum of first n natural numbers?"
   ]
  },
  {
   "cell_type": "code",
   "execution_count": 5,
   "metadata": {},
   "outputs": [
    {
     "name": "stdout",
     "output_type": "stream",
     "text": [
      "Enter Number to calcualte sum of cubes (S) \n",
      "12\n",
      "Sum of cubes of 12.0 natural numbers are : 6084.0\n"
     ]
    }
   ],
   "source": [
    "a = float(input(\"Enter Number to calcualte sum of cubes (S) \\n\"))\n",
    "\n",
    "def sum_of_cubes(n):\n",
    "    return (n*(n+1)/2)**2\n",
    "\n",
    "print(\"Sum of cubes of\",a,\"natural numbers are :\",sum_of_cubes(a))"
   ]
  },
  {
   "cell_type": "code",
   "execution_count": null,
   "metadata": {},
   "outputs": [],
   "source": []
  }
 ],
 "metadata": {
  "kernelspec": {
   "display_name": "Python 3",
   "language": "python",
   "name": "python3"
  },
  "language_info": {
   "codemirror_mode": {
    "name": "ipython",
    "version": 3
   },
   "file_extension": ".py",
   "mimetype": "text/x-python",
   "name": "python",
   "nbconvert_exporter": "python",
   "pygments_lexer": "ipython3",
   "version": "3.8.5"
  }
 },
 "nbformat": 4,
 "nbformat_minor": 4
}
