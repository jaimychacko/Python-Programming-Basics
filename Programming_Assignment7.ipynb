{
 "cells": [
  {
   "cell_type": "markdown",
   "metadata": {},
   "source": [
    "                                                                             ~Python Basics - Chacko Mulackel\n",
    "\n",
    "\n"
   ]
  },
  {
   "cell_type": "markdown",
   "metadata": {},
   "source": [
    "### 1.\tWrite a Python Program to find sum of array?"
   ]
  },
  {
   "cell_type": "code",
   "execution_count": 1,
   "metadata": {},
   "outputs": [
    {
     "name": "stdout",
     "output_type": "stream",
     "text": [
      "Enter length of array4\n",
      "Enter array inputs\n",
      "3\n",
      "4\n",
      "5\n",
      "6\n",
      "Sum of array is: 18\n"
     ]
    }
   ],
   "source": [
    "lis=[]\n",
    "number=int(input(\"Enter length of array\"))\n",
    "print(\"Enter array inputs\")\n",
    "for i in range(number):\n",
    "    inp=int(input())\n",
    "    lis.append(inp)\n",
    "total =0\n",
    "for n in range(0, len(lis)):\n",
    "    total = total + lis[n]\n",
    "\n",
    "print(\"Sum of array is:\", total)\n",
    "    \n",
    "# or i can use numpy, which will give sum directly"
   ]
  },
  {
   "cell_type": "markdown",
   "metadata": {},
   "source": [
    "### 2.\tWrite a Python Program to find largest element in an array?`"
   ]
  },
  {
   "cell_type": "code",
   "execution_count": 2,
   "metadata": {},
   "outputs": [
    {
     "name": "stdout",
     "output_type": "stream",
     "text": [
      "Lenght of array :4\n",
      "Enter numbers\n",
      "33\n",
      "22\n",
      "55\n",
      "22\n",
      "Yout array is  [33, 22, 55, 22]\n",
      "The largest element is 55\n"
     ]
    }
   ],
   "source": [
    "lis = []\n",
    "number = int(input(\"Lenght of array :\"))\n",
    "print(\"Enter numbers\")\n",
    "for i in range(number):\n",
    "    inp =int(input())\n",
    "    lis.append(inp)\n",
    "\n",
    "print(\"Yout array is \", lis)\n",
    "\n",
    "large = 0\n",
    "for i in lis:\n",
    "    if (i>=large):\n",
    "        large = i\n",
    "        \n",
    "print(\"The largest element is\", large)"
   ]
  },
  {
   "cell_type": "markdown",
   "metadata": {},
   "source": [
    "### 3.\tWrite a Python Program for array rotation?"
   ]
  },
  {
   "cell_type": "code",
   "execution_count": 3,
   "metadata": {},
   "outputs": [
    {
     "name": "stdout",
     "output_type": "stream",
     "text": [
      "Lenght of array :5\n",
      "Enter numbers\n",
      "2\n",
      "2\n",
      "3\n",
      "54\n",
      "6\n",
      "Your list is : [2, 2, 3, 54, 6] \n",
      "\n",
      "How many rolls?\n",
      "2\n",
      "[54, 6, 2, 2, 3]\n"
     ]
    }
   ],
   "source": [
    "# Using Numpy array after clarification\n",
    "lis = []\n",
    "number = int(input(\"Lenght of array :\"))\n",
    "print(\"Enter numbers\")\n",
    "for i in range(number):\n",
    "    inp =int(input())\n",
    "    lis.append(inp)\n",
    "print(\"Your list is :\",lis,'\\n')\n",
    "import numpy as np  \n",
    "rolls = int(input(\"How many rolls?\\n\"))\n",
    "a = np.roll(lis,rolls)\n",
    "print(list(a))\n"
   ]
  },
  {
   "cell_type": "markdown",
   "metadata": {},
   "source": [
    "### 4.\tWrite a Python Program to Split the array and add the first part to the end?"
   ]
  },
  {
   "cell_type": "code",
   "execution_count": 4,
   "metadata": {},
   "outputs": [
    {
     "name": "stdout",
     "output_type": "stream",
     "text": [
      "Lenght of array :4\n",
      "Enter numbers\n",
      "2\n",
      "3\n",
      "5\n",
      "6\n",
      "Your list is : [2, 3, 5, 6] \n",
      "\n",
      "[5, 6, 2, 3]\n"
     ]
    }
   ],
   "source": [
    "# Using Numpy array after clarification\n",
    "lis = []\n",
    "number = int(input(\"Lenght of array :\"))\n",
    "print(\"Enter numbers\")\n",
    "for i in range(number):\n",
    "    inp =int(input())\n",
    "    lis.append(inp)\n",
    "print(\"Your list is :\",lis,'\\n')\n",
    "import numpy as np  \n",
    "rolls = int(number/2)\n",
    "a = np.roll(lis,rolls)\n",
    "print(list(a))\n"
   ]
  },
  {
   "cell_type": "markdown",
   "metadata": {},
   "source": [
    "### 5.\tWrite a Python Program to check if given array is Monotonic?"
   ]
  },
  {
   "cell_type": "code",
   "execution_count": 6,
   "metadata": {},
   "outputs": [
    {
     "name": "stdout",
     "output_type": "stream",
     "text": [
      "[1, 2, 33, 4, 5]  is not monotonic array\n"
     ]
    }
   ],
   "source": [
    "lis =[1,2,33,4,5]\n",
    "\n",
    "a = len(lis)-1\n",
    "def monotonic(lis):\n",
    "    if all(lis[i] <= lis[i + 1] for i in range(a)): \n",
    "        print(lis,\"monotone array(positive)\")\n",
    "    elif all(lis[i] >= lis[i + 1] for i in range(a)):\n",
    "        print(lis,\"monotone array(negative)\")\n",
    "    else:\n",
    "        print(lis,\" is not monotonic array\")\n",
    "\n",
    "        \n",
    "monotonic(lis)        "
   ]
  },
  {
   "cell_type": "code",
   "execution_count": null,
   "metadata": {},
   "outputs": [],
   "source": []
  }
 ],
 "metadata": {
  "kernelspec": {
   "display_name": "Python 3",
   "language": "python",
   "name": "python3"
  },
  "language_info": {
   "codemirror_mode": {
    "name": "ipython",
    "version": 3
   },
   "file_extension": ".py",
   "mimetype": "text/x-python",
   "name": "python",
   "nbconvert_exporter": "python",
   "pygments_lexer": "ipython3",
   "version": "3.8.5"
  }
 },
 "nbformat": 4,
 "nbformat_minor": 4
}
